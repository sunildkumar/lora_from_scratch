{
 "cells": [
  {
   "cell_type": "markdown",
   "id": "a85fefe6-e3e9-44b2-9bdc-fc03d30080b6",
   "metadata": {},
   "source": [
    "# LoRA on MNIST  \n",
    "This notebook will attempt to implement Low-Rank Adaptation(LoRA) Finetuning from scratch on the MNIST dataset using pytorch lightning. I'm purposely using a simple model and data that way I can focus on LoRA implementation. \n",
    "\n",
    "Plan\n",
    "1. Build an MLP. Train this model to perform well on MNIST 0-4 (half of the data).\n",
    "3. Use standard finetuning approach to train this model to work on MNIST 5-9 (this will act as our baseline)\n",
    "4. Use LoRA finetuning to train the original model to work on MNIST 5-9\n",
    "5. Compare finetuning techniques (performance, memory etc)\n",
    "\n",
    "Other ideas:\n",
    "- LoRA from 1/2 of the dataset to the entire thing (replicates \"change of data\" a bit more)\n",
    "- try to FT as \"quickly as possible\" (fewest epochs/steps)"
   ]
  },
  {
   "cell_type": "markdown",
   "id": "37e02a5d-8dd2-4361-b7cf-9d33b025a410",
   "metadata": {},
   "source": [
    "Sources:\n",
    "1. https://arxiv.org/abs/2106.09685\n",
    "2. https://lightning.ai/pages/community/tutorial/lora-llm/ - (The first half offers useful starter pseudocode)\n",
    "3. https://colab.research.google.com/drive/1iERDk94Jp0UErsPf7vXyPKeiM4ZJUQ-a?usp=sharing#scrollTo=WuK0lPwcB7Ia - had some good ideas on metrics to compute about LoRA-ized model\n",
    "4. https://lightning.ai/docs/pytorch/stable/notebooks/lightning_examples/mnist-hello-world.html - starter code for building an MLP and training on MNIST\n",
    "5. https://discuss.pytorch.org/t/how-to-use-one-class-of-number-in-mnist/26276/21 - forum post on how to limit MNIST to only first or second half\n",
    "\n",
    "\n",
    "https://chat.openai.com/share/3b640063-3ce0-4373-bdad-59503a434a28"
   ]
  },
  {
   "cell_type": "code",
   "execution_count": 1,
   "id": "423b1158-1d05-4a05-b5b2-f5a0edc9ba88",
   "metadata": {},
   "outputs": [
    {
     "name": "stderr",
     "output_type": "stream",
     "text": [
      "Global seed set to 42\n"
     ]
    },
    {
     "data": {
      "text/plain": [
       "42"
      ]
     },
     "execution_count": 1,
     "metadata": {},
     "output_type": "execute_result"
    }
   ],
   "source": [
    "# reserved for imports\n",
    "\n",
    "import lightning as L\n",
    "from lightning.pytorch.loggers import CSVLogger\n",
    "\n",
    "import torch\n",
    "from torch import nn\n",
    "from torch.nn import functional as F\n",
    "from torch.utils.data import DataLoader, random_split\n",
    "from torch.utils.data.sampler import SubsetRandomSampler\n",
    "\n",
    "import torchvision\n",
    "from torchvision.datasets import MNIST\n",
    "from torchvision import transforms\n",
    "\n",
    "from torchmetrics import Accuracy\n",
    "\n",
    "import pandas as pd\n",
    "import seaborn as sn\n",
    "\n",
    "# make results reproducable\n",
    "L.seed_everything(42)"
   ]
  },
  {
   "cell_type": "code",
   "execution_count": 2,
   "id": "c9fd83ca-88db-4682-85e1-904d4f5df759",
   "metadata": {},
   "outputs": [],
   "source": [
    "# reserved for constants\n",
    "PATH_DATASETS = '/home/sunil/lora_from_scratch/data'\n"
   ]
  },
  {
   "cell_type": "markdown",
   "id": "0d712261-bb19-459d-8272-b33e529bc613",
   "metadata": {},
   "source": [
    "# Step 1: Train an MLP on the first half of MNIST"
   ]
  },
  {
   "cell_type": "code",
   "execution_count": 3,
   "id": "45e87b2f-dcca-4b7c-8b68-eec22654b744",
   "metadata": {},
   "outputs": [],
   "source": [
    "# we need to split MNIST training data into \n",
    "from torch.utils.data import Dataset\n",
    "class custom_subset(Dataset):\n",
    "    r\"\"\"\n",
    "    Subset of a dataset at specified indices.\n",
    "\n",
    "    Arguments:\n",
    "        dataset (Dataset): The whole Dataset\n",
    "        indices (sequence): Indices in the whole set selected for subset\n",
    "        labels(sequence) : targets as required for the indices. will be the same length as indices\n",
    "    \"\"\"\n",
    "    def __init__(self, dataset, indices, labels):\n",
    "        self.dataset = torch.utils.data.Subset(dataset, indices)\n",
    "        self.targets = labels\n",
    "    def __getitem__(self, idx):\n",
    "        image = self.dataset[idx][0]\n",
    "        target = self.targets[idx]\n",
    "        return (image, target)\n",
    "\n",
    "    def __len__(self):\n",
    "        return len(self.targets)"
   ]
  },
  {
   "cell_type": "code",
   "execution_count": 4,
   "id": "27414d79-396d-460d-8700-aee7169c20bf",
   "metadata": {},
   "outputs": [],
   "source": [
    "class LitMNIST(L.LightningModule):\n",
    "    def __init__(self, data_dir=PATH_DATASETS, hidden_size=64, lr=2e-4):\n",
    "        super().__init__()\n",
    "\n",
    "        # Set our init args as class attributes\n",
    "        self.data_dir = data_dir\n",
    "        self.hidden_size = hidden_size\n",
    "        self.lr = lr\n",
    "\n",
    "        # Hardcode some dataset specific attributes\n",
    "        self.class_names = [0,1,2,3,4]\n",
    "        self.min_class = min(self.class_names)\n",
    "        self.num_classes = len(self.class_names) \n",
    "        self.dims = (1, 28, 28) # the shape of an example (C x W x H)\n",
    "        channels, width, height = self.dims\n",
    "\n",
    "        self.transform = transforms.Compose(\n",
    "            [\n",
    "                transforms.ToTensor(),\n",
    "                transforms.Normalize((0.1307,), (0.3081,)),\n",
    "            ]\n",
    "        )\n",
    "\n",
    "        self.batch_size = 256\n",
    "\n",
    "        # Define layers for model\n",
    "        self.l1 = nn.Linear(channels * width * height, hidden_size)\n",
    "        self.l2 = nn.Linear(hidden_size, hidden_size)\n",
    "        self.l3 = nn.Linear(hidden_size, self.num_classes)\n",
    "\n",
    "        self.dropout = nn.Dropout(0.1)\n",
    "        self.relu = nn.ReLU()\n",
    "\n",
    "        \n",
    "        # Define metrics\n",
    "        self.val_accuracy = Accuracy(task=\"multiclass\", num_classes=self.num_classes)\n",
    "        self.test_accuracy = Accuracy(task=\"multiclass\", num_classes=self.num_classes)\n",
    "\n",
    "\n",
    "    def forward(self, x):\n",
    "        # preprocessing\n",
    "        x = torch.flatten(x,1)\n",
    "\n",
    "        # layer 1 (input size, hidden size)\n",
    "        x = self.l1(x)\n",
    "        x = self.relu(x)\n",
    "        x = self.dropout(x)\n",
    "\n",
    "        # layer 2 (hidden size, hidden size)\n",
    "        x = self.l2(x)\n",
    "        x = self.relu(x)\n",
    "        x = self.dropout(x)\n",
    "\n",
    "        #layer 3 (hidden size, self.num_classes)\n",
    "        x = self.l3(x)\n",
    "                    \n",
    "        # notice that we return the log probabilities here as that is what nll loss expects in the training step\n",
    "        return F.log_softmax(x, dim=1)\n",
    "\n",
    "    def common_step(self, batch, batch_idx):\n",
    "        # define steps all of {train, val, test} will take in one place\n",
    "        x, y = batch\n",
    "        # rescale y to be 0 indexed if necessary (like when we start using mnist 5-9)\n",
    "        if self.min_class != 0:\n",
    "            y = y - self.min_class\n",
    "        \n",
    "        logits = self(x)\n",
    "        loss = F.nll_loss(logits, y)\n",
    "        return x,y, logits, loss\n",
    "        \n",
    "        \n",
    "\n",
    "    def training_step(self, batch, batch_idx):\n",
    "        _, _, _, loss = self.common_step(batch, batch_idx)\n",
    "        return loss\n",
    "\n",
    "    def validation_step(self, batch, batch_idx):\n",
    "        \n",
    "        x, y, logits, loss = self.common_step(batch, batch_idx)\n",
    "        preds = torch.argmax(logits, dim=1)\n",
    "        self.val_accuracy.update(preds, y)\n",
    "\n",
    "        self.log(\"val_loss\", loss, prog_bar=True)\n",
    "        self.log(\"val_acc\", self.val_accuracy, prog_bar=True)\n",
    "\n",
    "    def test_step(self, batch, batch_idx):\n",
    "        x, y, logits, loss = self.common_step(batch, batch_idx)\n",
    "        preds = torch.argmax(logits, dim=1)\n",
    "        self.test_accuracy.update(preds, y)\n",
    "\n",
    "        self.log(\"test_loss\", loss, prog_bar=True)\n",
    "        self.log(\"test_acc\", self.test_accuracy, prog_bar=True)\n",
    "    \n",
    "    def configure_optimizers(self):\n",
    "        # we'll use adam for simplicity\n",
    "        optimizer = torch.optim.Adam(self.parameters(), lr=self.lr)\n",
    "        return optimizer\n",
    "\n",
    "    # the rest of the class is helper functions/hooks for configuring data/dataloader building\n",
    "    @staticmethod\n",
    "    def get_indices(dataset,class_names):\n",
    "        if isinstance(dataset, torch.utils.data.dataset.Subset):\n",
    "            targets = torch.tensor([dataset.dataset.targets[i] for i in dataset.indices])\n",
    "        else:\n",
    "            targets = dataset.targets\n",
    "\n",
    "            \n",
    "        indices =  []\n",
    "        for i in range(len(targets)):\n",
    "            if targets[i] in class_names:\n",
    "                indices.append(i)\n",
    "        return indices\n",
    "        \n",
    "    def create_dataloader(self,dataset):\n",
    "        idx = self.get_indices(dataset, self.class_names)\n",
    "        loader = DataLoader(dataset,batch_size=self.batch_size, sampler = SubsetRandomSampler(idx), num_workers=16) # Note - this necessarily shuffles the data due to the sampler we are using\n",
    "        return loader\n",
    "\n",
    "    def prepare_data(self):\n",
    "        # download data\n",
    "        MNIST(self.data_dir, train=True, download=True)\n",
    "        MNIST(self.data_dir, train=False, download=True)\n",
    "\n",
    "    def setup(self, stage=None):\n",
    "        # Assign train/val datasets for use in dataloaders\n",
    "        if stage == \"fit\" or stage is None:\n",
    "            mnist_full = MNIST(self.data_dir, train=True, transform=self.transform)\n",
    "            self.mnist_train, self.mnist_val = random_split(mnist_full, [55000, 5000])\n",
    "\n",
    "            \n",
    "\n",
    "        # Assign test dataset for use in dataloader(s)\n",
    "        if stage == \"test\" or stage is None:\n",
    "            self.mnist_test = MNIST(self.data_dir, train=False, transform=self.transform)\n",
    "\n",
    "\n",
    "    def train_dataloader(self):\n",
    "        return self.create_dataloader(self.mnist_train)\n",
    "\n",
    "    def val_dataloader(self):\n",
    "        return self.create_dataloader(self.mnist_val)\n",
    "\n",
    "    def test_dataloader(self):\n",
    "        return self.create_dataloader(self.mnist_test)\n",
    "\n",
    "        \n",
    "        \n",
    "\n",
    "        \n"
   ]
  },
  {
   "cell_type": "code",
   "execution_count": 5,
   "id": "dcea2f7d-cb12-44df-96b0-e832632e905f",
   "metadata": {
    "scrolled": true
   },
   "outputs": [
    {
     "name": "stderr",
     "output_type": "stream",
     "text": [
      "GPU available: True (cuda), used: True\n",
      "TPU available: False, using: 0 TPU cores\n",
      "IPU available: False, using: 0 IPUs\n",
      "HPU available: False, using: 0 HPUs\n",
      "You are using a CUDA device ('NVIDIA GeForce RTX 4090') that has Tensor Cores. To properly utilize them, you should set `torch.set_float32_matmul_precision('medium' | 'high')` which will trade-off precision for performance. For more details, read https://pytorch.org/docs/stable/generated/torch.set_float32_matmul_precision.html#torch.set_float32_matmul_precision\n",
      "LOCAL_RANK: 0 - CUDA_VISIBLE_DEVICES: [0]\n",
      "\n",
      "  | Name          | Type               | Params\n",
      "-----------------------------------------------------\n",
      "0 | l1            | Linear             | 50.2 K\n",
      "1 | l2            | Linear             | 4.2 K \n",
      "2 | l3            | Linear             | 325   \n",
      "3 | dropout       | Dropout            | 0     \n",
      "4 | relu          | ReLU               | 0     \n",
      "5 | val_accuracy  | MulticlassAccuracy | 0     \n",
      "6 | test_accuracy | MulticlassAccuracy | 0     \n",
      "-----------------------------------------------------\n",
      "54.7 K    Trainable params\n",
      "0         Non-trainable params\n",
      "54.7 K    Total params\n",
      "0.219     Total estimated model params size (MB)\n"
     ]
    },
    {
     "name": "stdout",
     "output_type": "stream",
     "text": [
      "Epoch 0: 100%|██████████████████████████████████████████████████████████████████| 110/110 [00:03<00:00, 33.67it/s, v_num=59]\n",
      "Validation: 0it [00:00, ?it/s]\u001b[A\n",
      "Validation:   0%|                                                                                    | 0/10 [00:00<?, ?it/s]\u001b[A\n",
      "Validation DataLoader 0:   0%|                                                                       | 0/10 [00:00<?, ?it/s]\u001b[A\n",
      "Validation DataLoader 0:  10%|██████▏                                                       | 1/10 [00:00<00:00, 245.70it/s]\u001b[A\n",
      "Validation DataLoader 0:  20%|████████████▍                                                 | 2/10 [00:00<00:00, 263.35it/s]\u001b[A\n",
      "Validation DataLoader 0:  30%|██████████████████▌                                           | 3/10 [00:00<00:00, 299.69it/s]\u001b[A\n",
      "Validation DataLoader 0:  40%|████████████████████████▊                                     | 4/10 [00:00<00:00, 323.24it/s]\u001b[A\n",
      "Validation DataLoader 0:  50%|███████████████████████████████                               | 5/10 [00:00<00:00, 324.99it/s]\u001b[A\n",
      "Validation DataLoader 0:  60%|█████████████████████████████████████▏                        | 6/10 [00:00<00:00, 339.95it/s]\u001b[A\n",
      "Validation DataLoader 0:  70%|███████████████████████████████████████████▍                  | 7/10 [00:00<00:00, 352.42it/s]\u001b[A\n",
      "Validation DataLoader 0:  80%|█████████████████████████████████████████████████▌            | 8/10 [00:00<00:00, 362.38it/s]\u001b[A\n",
      "Validation DataLoader 0:  90%|███████████████████████████████████████████████████████▊      | 9/10 [00:00<00:00, 370.60it/s]\u001b[A\n",
      "Epoch 0: 100%|███████████████████████████████████| 110/110 [00:04<00:00, 26.26it/s, v_num=59, val_loss=0.232, val_acc=0.936]\u001b[A\n",
      "Epoch 1: 100%|███████████████████████████████████| 110/110 [00:03<00:00, 32.80it/s, v_num=59, val_loss=0.232, val_acc=0.936]\u001b[A\n",
      "Validation: 0it [00:00, ?it/s]\u001b[A\n",
      "Validation:   0%|                                                                                    | 0/10 [00:00<?, ?it/s]\u001b[A\n",
      "Validation DataLoader 0:   0%|                                                                       | 0/10 [00:00<?, ?it/s]\u001b[A\n",
      "Validation DataLoader 0:  10%|██████▏                                                       | 1/10 [00:00<00:00, 314.89it/s]\u001b[A\n",
      "Validation DataLoader 0:  20%|████████████▍                                                 | 2/10 [00:00<00:00, 395.28it/s]\u001b[A\n",
      "Validation DataLoader 0:  30%|██████████████████▌                                           | 3/10 [00:00<00:00, 437.44it/s]\u001b[A\n",
      "Validation DataLoader 0:  40%|████████████████████████▊                                     | 4/10 [00:00<00:00, 423.52it/s]\u001b[A\n",
      "Validation DataLoader 0:  50%|███████████████████████████████                               | 5/10 [00:00<00:00, 449.13it/s]\u001b[A\n",
      "Validation DataLoader 0:  60%|█████████████████████████████████████▏                        | 6/10 [00:00<00:00, 467.68it/s]\u001b[A\n",
      "Validation DataLoader 0:  70%|███████████████████████████████████████████▍                  | 7/10 [00:00<00:00, 481.57it/s]\u001b[A\n",
      "Validation DataLoader 0:  80%|█████████████████████████████████████████████████▌            | 8/10 [00:00<00:00, 475.69it/s]\u001b[A\n",
      "Validation DataLoader 0:  90%|███████████████████████████████████████████████████████▊      | 9/10 [00:00<00:00, 480.24it/s]\u001b[A\n",
      "Epoch 1: 100%|███████████████████████████████████| 110/110 [00:04<00:00, 25.01it/s, v_num=59, val_loss=0.154, val_acc=0.954]\u001b[A\n",
      "Epoch 2: 100%|███████████████████████████████████| 110/110 [00:03<00:00, 33.23it/s, v_num=59, val_loss=0.154, val_acc=0.954]\u001b[A\n",
      "Validation: 0it [00:00, ?it/s]\u001b[A\n",
      "Validation:   0%|                                                                                    | 0/10 [00:00<?, ?it/s]\u001b[A\n",
      "Validation DataLoader 0:   0%|                                                                       | 0/10 [00:00<?, ?it/s]\u001b[A\n",
      "Validation DataLoader 0:  10%|██████▏                                                       | 1/10 [00:00<00:00, 324.34it/s]\u001b[A\n",
      "Validation DataLoader 0:  20%|████████████▍                                                 | 2/10 [00:00<00:00, 397.26it/s]\u001b[A\n",
      "Validation DataLoader 0:  30%|██████████████████▌                                           | 3/10 [00:00<00:00, 421.82it/s]\u001b[A\n",
      "Validation DataLoader 0:  40%|████████████████████████▊                                     | 4/10 [00:00<00:00, 440.39it/s]\u001b[A\n",
      "Validation DataLoader 0:  50%|███████████████████████████████                               | 5/10 [00:00<00:00, 409.47it/s]\u001b[A\n",
      "Validation DataLoader 0:  60%|█████████████████████████████████████▏                        | 6/10 [00:00<00:00, 427.83it/s]\u001b[A\n",
      "Validation DataLoader 0:  70%|███████████████████████████████████████████▍                  | 7/10 [00:00<00:00, 442.17it/s]\u001b[A\n",
      "Validation DataLoader 0:  80%|█████████████████████████████████████████████████▌            | 8/10 [00:00<00:00, 455.50it/s]\u001b[A\n",
      "Validation DataLoader 0:  90%|███████████████████████████████████████████████████████▊      | 9/10 [00:00<00:00, 461.91it/s]\u001b[A\n",
      "Epoch 2: 100%|███████████████████████████████████| 110/110 [00:04<00:00, 25.56it/s, v_num=59, val_loss=0.133, val_acc=0.961]\u001b[A\n",
      "Epoch 3: 100%|███████████████████████████████████| 110/110 [00:03<00:00, 32.27it/s, v_num=59, val_loss=0.133, val_acc=0.961]\u001b[A\n",
      "Validation: 0it [00:00, ?it/s]\u001b[A\n",
      "Validation:   0%|                                                                                    | 0/10 [00:00<?, ?it/s]\u001b[A\n",
      "Validation DataLoader 0:   0%|                                                                       | 0/10 [00:00<?, ?it/s]\u001b[A\n",
      "Validation DataLoader 0:  10%|██████▏                                                       | 1/10 [00:00<00:00, 287.48it/s]\u001b[A\n",
      "Validation DataLoader 0:  20%|████████████▍                                                 | 2/10 [00:00<00:00, 273.34it/s]\u001b[A\n",
      "Validation DataLoader 0:  30%|██████████████████▌                                           | 3/10 [00:00<00:00, 329.43it/s]\u001b[A\n",
      "Validation DataLoader 0:  40%|████████████████████████▊                                     | 4/10 [00:00<00:00, 331.33it/s]\u001b[A\n",
      "Validation DataLoader 0:  50%|███████████████████████████████                               | 5/10 [00:00<00:00, 360.36it/s]\u001b[A\n",
      "Validation DataLoader 0:  60%|█████████████████████████████████████▏                        | 6/10 [00:00<00:00, 383.12it/s]\u001b[A\n",
      "Validation DataLoader 0:  70%|███████████████████████████████████████████▍                  | 7/10 [00:00<00:00, 401.17it/s]\u001b[A\n",
      "Validation DataLoader 0:  80%|█████████████████████████████████████████████████▌            | 8/10 [00:00<00:00, 415.97it/s]\u001b[A\n",
      "Validation DataLoader 0:  90%|███████████████████████████████████████████████████████▊      | 9/10 [00:00<00:00, 428.08it/s]\u001b[A\n",
      "Epoch 3: 100%|███████████████████████████████████| 110/110 [00:04<00:00, 24.79it/s, v_num=59, val_loss=0.120, val_acc=0.962]\u001b[A\n",
      "Epoch 4: 100%|███████████████████████████████████| 110/110 [00:03<00:00, 32.52it/s, v_num=59, val_loss=0.120, val_acc=0.962]\u001b[A\n",
      "Validation: 0it [00:00, ?it/s]\u001b[A\n",
      "Validation:   0%|                                                                                    | 0/10 [00:00<?, ?it/s]\u001b[A\n",
      "Validation DataLoader 0:   0%|                                                                       | 0/10 [00:00<?, ?it/s]\u001b[A\n",
      "Validation DataLoader 0:  10%|██████▏                                                       | 1/10 [00:00<00:00, 273.55it/s]\u001b[A\n",
      "Validation DataLoader 0:  20%|████████████▍                                                 | 2/10 [00:00<00:00, 347.60it/s]\u001b[A\n",
      "Validation DataLoader 0:  30%|██████████████████▌                                           | 3/10 [00:00<00:00, 384.81it/s]\u001b[A\n",
      "Validation DataLoader 0:  40%|████████████████████████▊                                     | 4/10 [00:00<00:00, 407.60it/s]\u001b[A\n",
      "Validation DataLoader 0:  50%|███████████████████████████████                               | 5/10 [00:00<00:00, 422.53it/s]\u001b[A\n",
      "Validation DataLoader 0:  60%|█████████████████████████████████████▏                        | 6/10 [00:00<00:00, 432.66it/s]\u001b[A\n",
      "Validation DataLoader 0:  70%|███████████████████████████████████████████▍                  | 7/10 [00:00<00:00, 441.00it/s]\u001b[A\n",
      "Validation DataLoader 0:  80%|█████████████████████████████████████████████████▌            | 8/10 [00:00<00:00, 447.18it/s]\u001b[A\n",
      "Validation DataLoader 0:  90%|███████████████████████████████████████████████████████▊      | 9/10 [00:00<00:00, 452.62it/s]\u001b[A\n",
      "Epoch 4: 100%|███████████████████████████████████| 110/110 [00:04<00:00, 24.75it/s, v_num=59, val_loss=0.110, val_acc=0.963]\u001b[A\n",
      "Epoch 5: 100%|███████████████████████████████████| 110/110 [00:03<00:00, 32.99it/s, v_num=59, val_loss=0.110, val_acc=0.963]\u001b[A\n",
      "Validation: 0it [00:00, ?it/s]\u001b[A\n",
      "Validation:   0%|                                                                                    | 0/10 [00:00<?, ?it/s]\u001b[A\n",
      "Validation DataLoader 0:   0%|                                                                       | 0/10 [00:00<?, ?it/s]\u001b[A\n",
      "Validation DataLoader 0:  10%|██████▏                                                       | 1/10 [00:00<00:00, 297.95it/s]\u001b[A\n",
      "Validation DataLoader 0:  20%|████████████▍                                                 | 2/10 [00:00<00:00, 374.44it/s]\u001b[A\n",
      "Validation DataLoader 0:  30%|██████████████████▌                                           | 3/10 [00:00<00:00, 419.19it/s]\u001b[A\n",
      "Validation DataLoader 0:  40%|████████████████████████▊                                     | 4/10 [00:00<00:00, 445.34it/s]\u001b[A\n",
      "Validation DataLoader 0:  50%|███████████████████████████████                               | 5/10 [00:00<00:00, 441.75it/s]\u001b[A\n",
      "Validation DataLoader 0:  60%|█████████████████████████████████████▏                        | 6/10 [00:00<00:00, 458.39it/s]\u001b[A\n",
      "Validation DataLoader 0:  70%|███████████████████████████████████████████▍                  | 7/10 [00:00<00:00, 468.89it/s]\u001b[A\n",
      "Validation DataLoader 0:  80%|█████████████████████████████████████████████████▌            | 8/10 [00:00<00:00, 480.69it/s]\u001b[A\n",
      "Validation DataLoader 0:  90%|███████████████████████████████████████████████████████▊      | 9/10 [00:00<00:00, 485.12it/s]\u001b[A\n",
      "Epoch 5: 100%|███████████████████████████████████| 110/110 [00:04<00:00, 25.66it/s, v_num=59, val_loss=0.101, val_acc=0.969]\u001b[A\n",
      "Epoch 6: 100%|███████████████████████████████████| 110/110 [00:03<00:00, 32.50it/s, v_num=59, val_loss=0.101, val_acc=0.969]\u001b[A\n",
      "Validation: 0it [00:00, ?it/s]\u001b[A\n",
      "Validation:   0%|                                                                                    | 0/10 [00:00<?, ?it/s]\u001b[A\n",
      "Validation DataLoader 0:   0%|                                                                       | 0/10 [00:00<?, ?it/s]\u001b[A\n",
      "Validation DataLoader 0:  10%|██████▏                                                       | 1/10 [00:00<00:00, 317.08it/s]\u001b[A\n",
      "Validation DataLoader 0:  20%|████████████▍                                                 | 2/10 [00:00<00:00, 399.34it/s]\u001b[A\n",
      "Validation DataLoader 0:  30%|██████████████████▌                                           | 3/10 [00:00<00:00, 443.44it/s]\u001b[A\n",
      "Validation DataLoader 0:  40%|████████████████████████▊                                     | 4/10 [00:00<00:00, 466.77it/s]\u001b[A\n",
      "Validation DataLoader 0:  50%|███████████████████████████████                               | 5/10 [00:00<00:00, 483.26it/s]\u001b[A\n",
      "Validation DataLoader 0:  60%|█████████████████████████████████████▏                        | 6/10 [00:00<00:00, 468.87it/s]\u001b[A\n",
      "Validation DataLoader 0:  70%|███████████████████████████████████████████▍                  | 7/10 [00:00<00:00, 479.69it/s]\u001b[A\n",
      "Validation DataLoader 0:  80%|█████████████████████████████████████████████████▌            | 8/10 [00:00<00:00, 488.33it/s]\u001b[A\n",
      "Validation DataLoader 0:  90%|███████████████████████████████████████████████████████▊      | 9/10 [00:00<00:00, 495.16it/s]\u001b[A\n",
      "Epoch 6: 100%|██████████████████████████████████| 110/110 [00:04<00:00, 25.02it/s, v_num=59, val_loss=0.0927, val_acc=0.969]\u001b[A\n",
      "Epoch 7: 100%|██████████████████████████████████| 110/110 [00:03<00:00, 32.97it/s, v_num=59, val_loss=0.0927, val_acc=0.969]\u001b[A\n",
      "Validation: 0it [00:00, ?it/s]\u001b[A\n",
      "Validation:   0%|                                                                                    | 0/10 [00:00<?, ?it/s]\u001b[A\n",
      "Validation DataLoader 0:   0%|                                                                       | 0/10 [00:00<?, ?it/s]\u001b[A\n",
      "Validation DataLoader 0:  10%|██████▏                                                       | 1/10 [00:00<00:00, 285.17it/s]\u001b[A\n",
      "Validation DataLoader 0:  20%|████████████▌                                                  | 2/10 [00:00<00:00, 83.13it/s]\u001b[A\n",
      "Validation DataLoader 0:  30%|██████████████████▌                                           | 3/10 [00:00<00:00, 115.12it/s]\u001b[A\n",
      "Validation DataLoader 0:  40%|████████████████████████▊                                     | 4/10 [00:00<00:00, 134.38it/s]\u001b[A\n",
      "Validation DataLoader 0:  50%|███████████████████████████████                               | 5/10 [00:00<00:00, 157.95it/s]\u001b[A\n",
      "Validation DataLoader 0:  60%|█████████████████████████████████████▏                        | 6/10 [00:00<00:00, 178.55it/s]\u001b[A\n",
      "Validation DataLoader 0:  70%|███████████████████████████████████████████▍                  | 7/10 [00:00<00:00, 197.90it/s]\u001b[A\n",
      "Validation DataLoader 0:  80%|█████████████████████████████████████████████████▌            | 8/10 [00:00<00:00, 215.02it/s]\u001b[A\n",
      "Validation DataLoader 0:  90%|███████████████████████████████████████████████████████▊      | 9/10 [00:00<00:00, 230.91it/s]\u001b[A\n",
      "Epoch 7: 100%|██████████████████████████████████| 110/110 [00:04<00:00, 25.76it/s, v_num=59, val_loss=0.0858, val_acc=0.971]\u001b[A\n",
      "Epoch 8: 100%|██████████████████████████████████| 110/110 [00:03<00:00, 32.83it/s, v_num=59, val_loss=0.0858, val_acc=0.971]\u001b[A\n",
      "Validation: 0it [00:00, ?it/s]\u001b[A\n",
      "Validation:   0%|                                                                                    | 0/10 [00:00<?, ?it/s]\u001b[A\n",
      "Validation DataLoader 0:   0%|                                                                       | 0/10 [00:00<?, ?it/s]\u001b[A\n",
      "Validation DataLoader 0:  10%|██████▏                                                       | 1/10 [00:00<00:00, 295.33it/s]\u001b[A\n",
      "Validation DataLoader 0:  20%|████████████▍                                                 | 2/10 [00:00<00:00, 374.91it/s]\u001b[A\n",
      "Validation DataLoader 0:  30%|██████████████████▌                                           | 3/10 [00:00<00:00, 417.86it/s]\u001b[A\n",
      "Validation DataLoader 0:  40%|████████████████████████▊                                     | 4/10 [00:00<00:00, 445.55it/s]\u001b[A\n",
      "Validation DataLoader 0:  50%|███████████████████████████████                               | 5/10 [00:00<00:00, 465.23it/s]\u001b[A\n",
      "Validation DataLoader 0:  60%|█████████████████████████████████████▏                        | 6/10 [00:00<00:00, 478.83it/s]\u001b[A\n",
      "Validation DataLoader 0:  70%|███████████████████████████████████████████▍                  | 7/10 [00:00<00:00, 489.81it/s]\u001b[A\n",
      "Validation DataLoader 0:  80%|█████████████████████████████████████████████████▌            | 8/10 [00:00<00:00, 496.32it/s]\u001b[A\n",
      "Validation DataLoader 0:  90%|███████████████████████████████████████████████████████▊      | 9/10 [00:00<00:00, 500.13it/s]\u001b[A\n",
      "Epoch 8: 100%|██████████████████████████████████| 110/110 [00:04<00:00, 24.72it/s, v_num=59, val_loss=0.0792, val_acc=0.974]\u001b[A\n",
      "Epoch 9: 100%|██████████████████████████████████| 110/110 [00:03<00:00, 33.23it/s, v_num=59, val_loss=0.0792, val_acc=0.974]\u001b[A\n",
      "Validation: 0it [00:00, ?it/s]\u001b[A\n",
      "Validation:   0%|                                                                                    | 0/10 [00:00<?, ?it/s]\u001b[A\n",
      "Validation DataLoader 0:   0%|                                                                       | 0/10 [00:00<?, ?it/s]\u001b[A\n",
      "Validation DataLoader 0:  10%|██████▏                                                       | 1/10 [00:00<00:00, 302.42it/s]\u001b[A\n",
      "Validation DataLoader 0:  20%|████████████▍                                                 | 2/10 [00:00<00:00, 384.60it/s]\u001b[A\n",
      "Validation DataLoader 0:  30%|██████████████████▌                                           | 3/10 [00:00<00:00, 423.52it/s]\u001b[A\n",
      "Validation DataLoader 0:  40%|████████████████████████▊                                     | 4/10 [00:00<00:00, 449.15it/s]\u001b[A\n",
      "Validation DataLoader 0:  50%|███████████████████████████████                               | 5/10 [00:00<00:00, 468.47it/s]\u001b[A\n",
      "Validation DataLoader 0:  60%|█████████████████████████████████████▏                        | 6/10 [00:00<00:00, 482.37it/s]\u001b[A\n",
      "Validation DataLoader 0:  70%|███████████████████████████████████████████▍                  | 7/10 [00:00<00:00, 491.02it/s]\u001b[A\n",
      "Validation DataLoader 0:  80%|█████████████████████████████████████████████████▌            | 8/10 [00:00<00:00, 497.92it/s]\u001b[A\n",
      "Validation DataLoader 0:  90%|███████████████████████████████████████████████████████▊      | 9/10 [00:00<00:00, 503.63it/s]\u001b[A\n",
      "Epoch 9: 100%|██████████████████████████████████| 110/110 [00:04<00:00, 25.20it/s, v_num=59, val_loss=0.0747, val_acc=0.974]\u001b[A\n",
      "Epoch 9: 100%|██████████████████████████████████| 110/110 [00:04<00:00, 25.19it/s, v_num=59, val_loss=0.0747, val_acc=0.974]\u001b[A"
     ]
    },
    {
     "name": "stderr",
     "output_type": "stream",
     "text": [
      "`Trainer.fit` stopped: `max_epochs=10` reached.\n"
     ]
    },
    {
     "name": "stdout",
     "output_type": "stream",
     "text": [
      "Epoch 9: 100%|██████████████████████████████████| 110/110 [00:04<00:00, 25.16it/s, v_num=59, val_loss=0.0747, val_acc=0.974]\n"
     ]
    }
   ],
   "source": [
    "model = LitMNIST()\n",
    "trainer = L.Trainer(\n",
    "    accelerator=\"auto\",\n",
    "    devices=1,\n",
    "    max_epochs=10,\n",
    "    logger=CSVLogger(save_dir=\"logs/\"),\n",
    ")\n",
    "trainer.fit(model)"
   ]
  },
  {
   "cell_type": "code",
   "execution_count": 6,
   "id": "fa45d80a-ea43-41a5-a8f4-a60ac95717bb",
   "metadata": {},
   "outputs": [
    {
     "data": {
      "text/html": [
       "<div>\n",
       "<style scoped>\n",
       "    .dataframe tbody tr th:only-of-type {\n",
       "        vertical-align: middle;\n",
       "    }\n",
       "\n",
       "    .dataframe tbody tr th {\n",
       "        vertical-align: top;\n",
       "    }\n",
       "\n",
       "    .dataframe thead th {\n",
       "        text-align: right;\n",
       "    }\n",
       "</style>\n",
       "<table border=\"1\" class=\"dataframe\">\n",
       "  <thead>\n",
       "    <tr style=\"text-align: right;\">\n",
       "      <th></th>\n",
       "      <th>val_loss</th>\n",
       "      <th>val_acc</th>\n",
       "    </tr>\n",
       "    <tr>\n",
       "      <th>epoch</th>\n",
       "      <th></th>\n",
       "      <th></th>\n",
       "    </tr>\n",
       "  </thead>\n",
       "  <tbody>\n",
       "    <tr>\n",
       "      <th>0</th>\n",
       "      <td>0.231902</td>\n",
       "      <td>0.935938</td>\n",
       "    </tr>\n",
       "    <tr>\n",
       "      <th>1</th>\n",
       "      <td>0.154334</td>\n",
       "      <td>0.953516</td>\n",
       "    </tr>\n",
       "    <tr>\n",
       "      <th>2</th>\n",
       "      <td>0.132763</td>\n",
       "      <td>0.960938</td>\n",
       "    </tr>\n",
       "    <tr>\n",
       "      <th>3</th>\n",
       "      <td>0.120435</td>\n",
       "      <td>0.962109</td>\n",
       "    </tr>\n",
       "    <tr>\n",
       "      <th>4</th>\n",
       "      <td>0.110189</td>\n",
       "      <td>0.962891</td>\n",
       "    </tr>\n",
       "  </tbody>\n",
       "</table>\n",
       "</div>"
      ],
      "text/plain": [
       "       val_loss   val_acc\n",
       "epoch                    \n",
       "0      0.231902  0.935938\n",
       "1      0.154334  0.953516\n",
       "2      0.132763  0.960938\n",
       "3      0.120435  0.962109\n",
       "4      0.110189  0.962891"
      ]
     },
     "metadata": {},
     "output_type": "display_data"
    },
    {
     "data": {
      "text/plain": [
       "<seaborn.axisgrid.FacetGrid at 0x7f2381c38350>"
      ]
     },
     "execution_count": 6,
     "metadata": {},
     "output_type": "execute_result"
    },
    {
     "data": {
      "image/png": "[encoded data removed]",
      "text/plain": [
       "<Figure size 604.375x500 with 1 Axes>"
      ]
     },
     "metadata": {},
     "output_type": "display_data"
    }
   ],
   "source": [
    "\n",
    "metrics = pd.read_csv(f\"{trainer.logger.log_dir}/metrics.csv\")\n",
    "del metrics[\"step\"]\n",
    "metrics.set_index(\"epoch\", inplace=True)\n",
    "display(metrics.dropna(axis=1, how=\"all\").head())\n",
    "sn.relplot(data=metrics, kind=\"line\")"
   ]
  },
  {
   "cell_type": "code",
   "execution_count": 7,
   "id": "f6dc1512-5f6d-46a3-8129-1cea54a92aa3",
   "metadata": {
    "scrolled": true
   },
   "outputs": [
    {
     "name": "stderr",
     "output_type": "stream",
     "text": [
      "/home/sunil/miniconda3/envs/lora_from_scratch/lib/python3.11/site-packages/lightning/pytorch/trainer/connectors/checkpoint_connector.py:148: UserWarning: `.test(ckpt_path=None)` was called without a model. The best model of the previous `fit` call will be used. You can pass `.test(ckpt_path='best')` to use the best model or `.test(ckpt_path='last')` to use the last model. If you pass a value, this warning will be silenced.\n",
      "  rank_zero_warn(\n",
      "You are using a CUDA device ('NVIDIA GeForce RTX 4090') that has Tensor Cores. To properly utilize them, you should set `torch.set_float32_matmul_precision('medium' | 'high')` which will trade-off precision for performance. For more details, read https://pytorch.org/docs/stable/generated/torch.set_float32_matmul_precision.html#torch.set_float32_matmul_precision\n",
      "Restoring states from the checkpoint path at logs/lightning_logs/version_59/checkpoints/epoch=9-step=1100.ckpt\n",
      "LOCAL_RANK: 0 - CUDA_VISIBLE_DEVICES: [0]\n",
      "Loaded model weights from the checkpoint at logs/lightning_logs/version_59/checkpoints/epoch=9-step=1100.ckpt\n"
     ]
    },
    {
     "name": "stdout",
     "output_type": "stream",
     "text": [
      "Testing DataLoader 0: 100%|████████████████████████████████████████████████████████████████| 21/21 [00:00<00:00, 492.85it/s]\n"
     ]
    },
    {
     "data": {
      "text/html": [
       "<pre style=\"white-space:pre;overflow-x:auto;line-height:normal;font-family:Menlo,'DejaVu Sans Mono',consolas,'Courier New',monospace\">┏━━━━━━━━━━━━━━━━━━━━━━━━━━━┳━━━━━━━━━━━━━━━━━━━━━━━━━━━┓\n",
       "┃<span style=\"font-weight: bold\">   Runningstage.testing    </span>┃<span style=\"font-weight: bold\">                           </span>┃\n",
       "┃<span style=\"font-weight: bold\">          metric           </span>┃<span style=\"font-weight: bold\">       DataLoader 0        </span>┃\n",
       "┡━━━━━━━━━━━━━━━━━━━━━━━━━━━╇━━━━━━━━━━━━━━━━━━━━━━━━━━━┩\n",
       "│<span style=\"color: #008080; text-decoration-color: #008080\">         test_acc          </span>│<span style=\"color: #800080; text-decoration-color: #800080\">    0.9850165247917175     </span>│\n",
       "│<span style=\"color: #008080; text-decoration-color: #008080\">         test_loss         </span>│<span style=\"color: #800080; text-decoration-color: #800080\">   0.050125159323215485    </span>│\n",
       "└───────────────────────────┴───────────────────────────┘\n",
       "</pre>\n"
      ],
      "text/plain": [
       "┏━━━━━━━━━━━━━━━━━━━━━━━━━━━┳━━━━━━━━━━━━━━━━━━━━━━━━━━━┓\n",
       "┃\u001b[1m \u001b[0m\u001b[1m  Runningstage.testing   \u001b[0m\u001b[1m \u001b[0m┃\u001b[1m                           \u001b[0m┃\n",
       "┃\u001b[1m \u001b[0m\u001b[1m         metric          \u001b[0m\u001b[1m \u001b[0m┃\u001b[1m \u001b[0m\u001b[1m      DataLoader 0       \u001b[0m\u001b[1m \u001b[0m┃\n",
       "┡━━━━━━━━━━━━━━━━━━━━━━━━━━━╇━━━━━━━━━━━━━━━━━━━━━━━━━━━┩\n",
       "│\u001b[36m \u001b[0m\u001b[36m        test_acc         \u001b[0m\u001b[36m \u001b[0m│\u001b[35m \u001b[0m\u001b[35m   0.9850165247917175    \u001b[0m\u001b[35m \u001b[0m│\n",
       "│\u001b[36m \u001b[0m\u001b[36m        test_loss        \u001b[0m\u001b[36m \u001b[0m│\u001b[35m \u001b[0m\u001b[35m  0.050125159323215485   \u001b[0m\u001b[35m \u001b[0m│\n",
       "└───────────────────────────┴───────────────────────────┘\n"
      ]
     },
     "metadata": {},
     "output_type": "display_data"
    },
    {
     "data": {
      "text/plain": [
       "[{'test_loss': 0.050125159323215485, 'test_acc': 0.9850165247917175}]"
      ]
     },
     "execution_count": 7,
     "metadata": {},
     "output_type": "execute_result"
    }
   ],
   "source": [
    "# as expected our model performs well, achieving 98% test accuracy\n",
    "trainer.test()"
   ]
  },
  {
   "cell_type": "code",
   "execution_count": 8,
   "id": "46379ebe-33f9-468a-a833-4dfefc489f8d",
   "metadata": {},
   "outputs": [],
   "source": [
    "# save model weights so we can finetune from them later\n",
    "trainer.save_checkpoint(\"model.ckpt\")"
   ]
  },
  {
   "cell_type": "markdown",
   "id": "ad0a1f3b-6fe5-4839-b8d3-92f177c86ecb",
   "metadata": {},
   "source": [
    "# Finetune on second half of MNIST"
   ]
  },
  {
   "cell_type": "code",
   "execution_count": 9,
   "id": "2c2a53b7-4004-43fb-87a3-c5129bb38746",
   "metadata": {},
   "outputs": [],
   "source": [
    "# load the model - we refer to it as \"no training\" as we are going to use this initialization to show that the model performs poorly on the second half of mnist (as it wasn't trained on it)\n",
    "model_loaded_no_training = LitMNIST.load_from_checkpoint(checkpoint_path=\"model.ckpt\")"
   ]
  },
  {
   "cell_type": "code",
   "execution_count": 10,
   "id": "05702f82-da58-46c3-a3d7-1b985b167e9e",
   "metadata": {},
   "outputs": [],
   "source": [
    "# set it up to run on the second half of mnist (digits 5,6,7,8,9)\n",
    "model_loaded_no_training.class_names= [5,6,7,8,9]\n",
    "model_loaded_no_training.min_class = min(model_loaded_no_training.class_names)"
   ]
  },
  {
   "cell_type": "code",
   "execution_count": 11,
   "id": "a0b47dc5-e317-4fda-863a-e33013804f59",
   "metadata": {},
   "outputs": [
    {
     "name": "stderr",
     "output_type": "stream",
     "text": [
      "GPU available: True (cuda), used: True\n",
      "TPU available: False, using: 0 TPU cores\n",
      "IPU available: False, using: 0 IPUs\n",
      "HPU available: False, using: 0 HPUs\n",
      "You are using a CUDA device ('NVIDIA GeForce RTX 4090') that has Tensor Cores. To properly utilize them, you should set `torch.set_float32_matmul_precision('medium' | 'high')` which will trade-off precision for performance. For more details, read https://pytorch.org/docs/stable/generated/torch.set_float32_matmul_precision.html#torch.set_float32_matmul_precision\n",
      "LOCAL_RANK: 0 - CUDA_VISIBLE_DEVICES: [0]\n",
      "\n",
      "  | Name          | Type               | Params\n",
      "-----------------------------------------------------\n",
      "0 | l1            | Linear             | 50.2 K\n",
      "1 | l2            | Linear             | 4.2 K \n",
      "2 | l3            | Linear             | 325   \n",
      "3 | dropout       | Dropout            | 0     \n",
      "4 | relu          | ReLU               | 0     \n",
      "5 | val_accuracy  | MulticlassAccuracy | 0     \n",
      "6 | test_accuracy | MulticlassAccuracy | 0     \n",
      "-----------------------------------------------------\n",
      "54.7 K    Trainable params\n",
      "0         Non-trainable params\n",
      "54.7 K    Total params\n",
      "0.219     Total estimated model params size (MB)\n"
     ]
    },
    {
     "name": "stdout",
     "output_type": "stream",
     "text": [
      "Epoch 0:   0%|                                                                | 1/26895 [00:00<5:17:40,  1.41it/s, v_num=60]"
     ]
    },
    {
     "name": "stderr",
     "output_type": "stream",
     "text": [
      "`Trainer.fit` stopped: `max_steps=1` reached.\n"
     ]
    },
    {
     "name": "stdout",
     "output_type": "stream",
     "text": [
      "Epoch 0:   0%|                                                                | 1/26895 [00:00<5:19:22,  1.40it/s, v_num=60]\n"
     ]
    }
   ],
   "source": [
    "# we will train on the new data on exactly one element once (this is so we can access the trainer2.test() function, which allows us to easily evaluate how well our model works on the new data prior to training)\n",
    "model_loaded_no_training.batch_size = 1\n",
    "trainer_no_train = L.Trainer(\n",
    "    accelerator=\"auto\",\n",
    "    devices=1,\n",
    "    max_steps=1,\n",
    "    logger=CSVLogger(save_dir=\"logs/\"),\n",
    ")\n",
    "trainer_no_train.fit(model_loaded_no_training)"
   ]
  },
  {
   "cell_type": "code",
   "execution_count": 12,
   "id": "a7e6c74d-ca4a-4ca9-94c0-22e7ecaa8d25",
   "metadata": {},
   "outputs": [
    {
     "name": "stderr",
     "output_type": "stream",
     "text": [
      "You are using a CUDA device ('NVIDIA GeForce RTX 4090') that has Tensor Cores. To properly utilize them, you should set `torch.set_float32_matmul_precision('medium' | 'high')` which will trade-off precision for performance. For more details, read https://pytorch.org/docs/stable/generated/torch.set_float32_matmul_precision.html#torch.set_float32_matmul_precision\n",
      "Restoring states from the checkpoint path at logs/lightning_logs/version_60/checkpoints/epoch=0-step=1.ckpt\n",
      "LOCAL_RANK: 0 - CUDA_VISIBLE_DEVICES: [0]\n",
      "Loaded model weights from the checkpoint at logs/lightning_logs/version_60/checkpoints/epoch=0-step=1.ckpt\n"
     ]
    },
    {
     "name": "stdout",
     "output_type": "stream",
     "text": [
      "Testing DataLoader 0: 100%|████████████████████████████████████████████████████████████| 4861/4861 [00:08<00:00, 606.06it/s]\n"
     ]
    },
    {
     "data": {
      "text/html": [
       "<pre style=\"white-space:pre;overflow-x:auto;line-height:normal;font-family:Menlo,'DejaVu Sans Mono',consolas,'Courier New',monospace\">┏━━━━━━━━━━━━━━━━━━━━━━━━━━━┳━━━━━━━━━━━━━━━━━━━━━━━━━━━┓\n",
       "┃<span style=\"font-weight: bold\">   Runningstage.testing    </span>┃<span style=\"font-weight: bold\">                           </span>┃\n",
       "┃<span style=\"font-weight: bold\">          metric           </span>┃<span style=\"font-weight: bold\">       DataLoader 0        </span>┃\n",
       "┡━━━━━━━━━━━━━━━━━━━━━━━━━━━╇━━━━━━━━━━━━━━━━━━━━━━━━━━━┩\n",
       "│<span style=\"color: #008080; text-decoration-color: #008080\">         test_acc          </span>│<span style=\"color: #800080; text-decoration-color: #800080\">    0.34211066365242004    </span>│\n",
       "│<span style=\"color: #008080; text-decoration-color: #008080\">         test_loss         </span>│<span style=\"color: #800080; text-decoration-color: #800080\">    3.2421905994415283     </span>│\n",
       "└───────────────────────────┴───────────────────────────┘\n",
       "</pre>\n"
      ],
      "text/plain": [
       "┏━━━━━━━━━━━━━━━━━━━━━━━━━━━┳━━━━━━━━━━━━━━━━━━━━━━━━━━━┓\n",
       "┃\u001b[1m \u001b[0m\u001b[1m  Runningstage.testing   \u001b[0m\u001b[1m \u001b[0m┃\u001b[1m                           \u001b[0m┃\n",
       "┃\u001b[1m \u001b[0m\u001b[1m         metric          \u001b[0m\u001b[1m \u001b[0m┃\u001b[1m \u001b[0m\u001b[1m      DataLoader 0       \u001b[0m\u001b[1m \u001b[0m┃\n",
       "┡━━━━━━━━━━━━━━━━━━━━━━━━━━━╇━━━━━━━━━━━━━━━━━━━━━━━━━━━┩\n",
       "│\u001b[36m \u001b[0m\u001b[36m        test_acc         \u001b[0m\u001b[36m \u001b[0m│\u001b[35m \u001b[0m\u001b[35m   0.34211066365242004   \u001b[0m\u001b[35m \u001b[0m│\n",
       "│\u001b[36m \u001b[0m\u001b[36m        test_loss        \u001b[0m\u001b[36m \u001b[0m│\u001b[35m \u001b[0m\u001b[35m   3.2421905994415283    \u001b[0m\u001b[35m \u001b[0m│\n",
       "└───────────────────────────┴───────────────────────────┘\n"
      ]
     },
     "metadata": {},
     "output_type": "display_data"
    },
    {
     "data": {
      "text/plain": [
       "[{'test_loss': 3.2421905994415283, 'test_acc': 0.34211066365242004}]"
      ]
     },
     "execution_count": 12,
     "metadata": {},
     "output_type": "execute_result"
    }
   ],
   "source": [
    "# we can see our model performs extremely poorly on the new data (34% accuracy), which is unsuprising. \n",
    "trainer_no_train.test()"
   ]
  },
  {
   "cell_type": "code",
   "execution_count": 13,
   "id": "336a997e-8ec7-42be-ae7c-d2646899222e",
   "metadata": {},
   "outputs": [
    {
     "name": "stderr",
     "output_type": "stream",
     "text": [
      "GPU available: True (cuda), used: True\n",
      "TPU available: False, using: 0 TPU cores\n",
      "IPU available: False, using: 0 IPUs\n",
      "HPU available: False, using: 0 HPUs\n",
      "You are using a CUDA device ('NVIDIA GeForce RTX 4090') that has Tensor Cores. To properly utilize them, you should set `torch.set_float32_matmul_precision('medium' | 'high')` which will trade-off precision for performance. For more details, read https://pytorch.org/docs/stable/generated/torch.set_float32_matmul_precision.html#torch.set_float32_matmul_precision\n",
      "LOCAL_RANK: 0 - CUDA_VISIBLE_DEVICES: [0]\n",
      "\n",
      "  | Name          | Type               | Params\n",
      "-----------------------------------------------------\n",
      "0 | l1            | Linear             | 50.2 K\n",
      "1 | l2            | Linear             | 4.2 K \n",
      "2 | l3            | Linear             | 325   \n",
      "3 | dropout       | Dropout            | 0     \n",
      "4 | relu          | ReLU               | 0     \n",
      "5 | val_accuracy  | MulticlassAccuracy | 0     \n",
      "6 | test_accuracy | MulticlassAccuracy | 0     \n",
      "-----------------------------------------------------\n",
      "54.7 K    Trainable params\n",
      "0         Non-trainable params\n",
      "54.7 K    Total params\n",
      "0.219     Total estimated model params size (MB)\n"
     ]
    },
    {
     "name": "stdout",
     "output_type": "stream",
     "text": [
      "Epoch 0: 100%|██████████████████████████████████████████████████████████████████| 110/110 [00:03<00:00, 33.44it/s, v_num=61]\n",
      "Validation: 0it [00:00, ?it/s]\u001b[A\n",
      "Validation:   0%|                                                                                    | 0/10 [00:00<?, ?it/s]\u001b[A\n",
      "Validation DataLoader 0:   0%|                                                                       | 0/10 [00:00<?, ?it/s]\u001b[A\n",
      "Validation DataLoader 0:  10%|██████▏                                                       | 1/10 [00:00<00:00, 320.94it/s]\u001b[A\n",
      "Validation DataLoader 0:  20%|████████████▍                                                 | 2/10 [00:00<00:00, 394.29it/s]\u001b[A\n",
      "Validation DataLoader 0:  30%|██████████████████▌                                           | 3/10 [00:00<00:00, 435.33it/s]\u001b[A\n",
      "Validation DataLoader 0:  40%|████████████████████████▊                                     | 4/10 [00:00<00:00, 461.79it/s]\u001b[A\n",
      "Validation DataLoader 0:  50%|███████████████████████████████                               | 5/10 [00:00<00:00, 483.77it/s]\u001b[A\n",
      "Validation DataLoader 0:  60%|█████████████████████████████████████▏                        | 6/10 [00:00<00:00, 499.79it/s]\u001b[A\n",
      "Validation DataLoader 0:  70%|███████████████████████████████████████████▍                  | 7/10 [00:00<00:00, 509.20it/s]\u001b[A\n",
      "Validation DataLoader 0:  80%|█████████████████████████████████████████████████▌            | 8/10 [00:00<00:00, 513.79it/s]\u001b[A\n",
      "Validation DataLoader 0:  90%|███████████████████████████████████████████████████████▊      | 9/10 [00:00<00:00, 518.84it/s]\u001b[A\n",
      "Epoch 0: 100%|██████████████████████████████████| 110/110 [00:04<00:00, 25.87it/s, v_num=61, val_loss=0.0565, val_acc=0.981]\u001b[A\n",
      "Epoch 1: 100%|██████████████████████████████████| 110/110 [00:03<00:00, 33.39it/s, v_num=61, val_loss=0.0565, val_acc=0.981]\u001b[A\n",
      "Validation: 0it [00:00, ?it/s]\u001b[A\n",
      "Validation:   0%|                                                                                    | 0/10 [00:00<?, ?it/s]\u001b[A\n",
      "Validation DataLoader 0:   0%|                                                                       | 0/10 [00:00<?, ?it/s]\u001b[A\n",
      "Validation DataLoader 0:  10%|██████▏                                                       | 1/10 [00:00<00:00, 310.60it/s]\u001b[A\n",
      "Validation DataLoader 0:  20%|████████████▍                                                 | 2/10 [00:00<00:00, 391.66it/s]\u001b[A\n",
      "Validation DataLoader 0:  30%|██████████████████▌                                           | 3/10 [00:00<00:00, 435.03it/s]\u001b[A\n",
      "Validation DataLoader 0:  40%|████████████████████████▊                                     | 4/10 [00:00<00:00, 368.99it/s]\u001b[A\n",
      "Validation DataLoader 0:  50%|███████████████████████████████                               | 5/10 [00:00<00:00, 396.58it/s]\u001b[A\n",
      "Validation DataLoader 0:  60%|█████████████████████████████████████▏                        | 6/10 [00:00<00:00, 418.82it/s]\u001b[A\n",
      "Validation DataLoader 0:  70%|███████████████████████████████████████████▍                  | 7/10 [00:00<00:00, 435.93it/s]\u001b[A\n",
      "Validation DataLoader 0:  80%|█████████████████████████████████████████████████▌            | 8/10 [00:00<00:00, 449.24it/s]\u001b[A\n",
      "Validation DataLoader 0:  90%|███████████████████████████████████████████████████████▊      | 9/10 [00:00<00:00, 461.31it/s]\u001b[A\n",
      "Epoch 1: 100%|██████████████████████████████████| 110/110 [00:04<00:00, 25.34it/s, v_num=61, val_loss=0.0515, val_acc=0.985]\u001b[A\n",
      "Epoch 2: 100%|██████████████████████████████████| 110/110 [00:03<00:00, 32.49it/s, v_num=61, val_loss=0.0515, val_acc=0.985]\u001b[A\n",
      "Validation: 0it [00:00, ?it/s]\u001b[A\n",
      "Validation:   0%|                                                                                    | 0/10 [00:00<?, ?it/s]\u001b[A\n",
      "Validation DataLoader 0:   0%|                                                                       | 0/10 [00:00<?, ?it/s]\u001b[A\n",
      "Validation DataLoader 0:  10%|██████▏                                                       | 1/10 [00:00<00:00, 309.89it/s]\u001b[A\n",
      "Validation DataLoader 0:  20%|████████████▍                                                 | 2/10 [00:00<00:00, 283.01it/s]\u001b[A\n",
      "Validation DataLoader 0:  30%|██████████████████▌                                           | 3/10 [00:00<00:00, 298.43it/s]\u001b[A\n",
      "Validation DataLoader 0:  40%|████████████████████████▊                                     | 4/10 [00:00<00:00, 225.07it/s]\u001b[A\n",
      "Validation DataLoader 0:  50%|███████████████████████████████                               | 5/10 [00:00<00:00, 255.49it/s]\u001b[A\n",
      "Validation DataLoader 0:  60%|█████████████████████████████████████▏                        | 6/10 [00:00<00:00, 271.64it/s]\u001b[A\n",
      "Validation DataLoader 0:  70%|███████████████████████████████████████████▍                  | 7/10 [00:00<00:00, 293.34it/s]\u001b[A\n",
      "Validation DataLoader 0:  80%|█████████████████████████████████████████████████▌            | 8/10 [00:00<00:00, 312.66it/s]\u001b[A\n",
      "Validation DataLoader 0:  90%|███████████████████████████████████████████████████████▊      | 9/10 [00:00<00:00, 327.68it/s]\u001b[A\n",
      "Epoch 2: 100%|██████████████████████████████████| 110/110 [00:04<00:00, 24.81it/s, v_num=61, val_loss=0.0513, val_acc=0.984]\u001b[A\n",
      "Epoch 3: 100%|██████████████████████████████████| 110/110 [00:03<00:00, 32.24it/s, v_num=61, val_loss=0.0513, val_acc=0.984]\u001b[A\n",
      "Validation: 0it [00:00, ?it/s]\u001b[A\n",
      "Validation:   0%|                                                                                    | 0/10 [00:00<?, ?it/s]\u001b[A\n",
      "Validation DataLoader 0:   0%|                                                                       | 0/10 [00:00<?, ?it/s]\u001b[A\n",
      "Validation DataLoader 0:  10%|██████▏                                                       | 1/10 [00:00<00:00, 319.66it/s]\u001b[A\n",
      "Validation DataLoader 0:  20%|████████████▍                                                 | 2/10 [00:00<00:00, 401.18it/s]\u001b[A\n",
      "Validation DataLoader 0:  30%|██████████████████▌                                           | 3/10 [00:00<00:00, 441.44it/s]\u001b[A\n",
      "Validation DataLoader 0:  40%|████████████████████████▊                                     | 4/10 [00:00<00:00, 465.54it/s]\u001b[A\n",
      "Validation DataLoader 0:  50%|███████████████████████████████                               | 5/10 [00:00<00:00, 417.35it/s]\u001b[A\n",
      "Validation DataLoader 0:  60%|█████████████████████████████████████▏                        | 6/10 [00:00<00:00, 433.36it/s]\u001b[A\n",
      "Validation DataLoader 0:  70%|███████████████████████████████████████████▍                  | 7/10 [00:00<00:00, 433.40it/s]\u001b[A\n",
      "Validation DataLoader 0:  80%|█████████████████████████████████████████████████▌            | 8/10 [00:00<00:00, 446.24it/s]\u001b[A\n",
      "Validation DataLoader 0:  90%|███████████████████████████████████████████████████████▊      | 9/10 [00:00<00:00, 457.91it/s]\u001b[A\n",
      "Epoch 3: 100%|██████████████████████████████████| 110/110 [00:04<00:00, 23.90it/s, v_num=61, val_loss=0.0484, val_acc=0.985]\u001b[A\n",
      "Epoch 4: 100%|██████████████████████████████████| 110/110 [00:03<00:00, 32.39it/s, v_num=61, val_loss=0.0484, val_acc=0.985]\u001b[A\n",
      "Validation: 0it [00:00, ?it/s]\u001b[A\n",
      "Validation:   0%|                                                                                    | 0/10 [00:00<?, ?it/s]\u001b[A\n",
      "Validation DataLoader 0:   0%|                                                                       | 0/10 [00:00<?, ?it/s]\u001b[A\n",
      "Validation DataLoader 0:  10%|██████▏                                                       | 1/10 [00:00<00:00, 291.17it/s]\u001b[A\n",
      "Validation DataLoader 0:  20%|████████████▍                                                 | 2/10 [00:00<00:00, 375.83it/s]\u001b[A\n",
      "Validation DataLoader 0:  30%|██████████████████▌                                           | 3/10 [00:00<00:00, 383.16it/s]\u001b[A\n",
      "Validation DataLoader 0:  40%|████████████████████████▊                                     | 4/10 [00:00<00:00, 413.67it/s]\u001b[A\n",
      "Validation DataLoader 0:  50%|███████████████████████████████                               | 5/10 [00:00<00:00, 386.18it/s]\u001b[A\n",
      "Validation DataLoader 0:  60%|█████████████████████████████████████▏                        | 6/10 [00:00<00:00, 404.98it/s]\u001b[A\n",
      "Validation DataLoader 0:  70%|███████████████████████████████████████████▍                  | 7/10 [00:00<00:00, 420.64it/s]\u001b[A\n",
      "Validation DataLoader 0:  80%|█████████████████████████████████████████████████▌            | 8/10 [00:00<00:00, 420.76it/s]\u001b[A\n",
      "Validation DataLoader 0:  90%|███████████████████████████████████████████████████████▊      | 9/10 [00:00<00:00, 421.58it/s]\u001b[A\n",
      "Epoch 4: 100%|██████████████████████████████████| 110/110 [00:04<00:00, 24.42it/s, v_num=61, val_loss=0.0459, val_acc=0.985]\u001b[A\n",
      "Epoch 5: 100%|██████████████████████████████████| 110/110 [00:03<00:00, 32.60it/s, v_num=61, val_loss=0.0459, val_acc=0.985]\u001b[A\n",
      "Validation: 0it [00:00, ?it/s]\u001b[A\n",
      "Validation:   0%|                                                                                    | 0/10 [00:00<?, ?it/s]\u001b[A\n",
      "Validation DataLoader 0:   0%|                                                                       | 0/10 [00:00<?, ?it/s]\u001b[A\n",
      "Validation DataLoader 0:  10%|██████▏                                                       | 1/10 [00:00<00:00, 310.60it/s]\u001b[A\n",
      "Validation DataLoader 0:  20%|████████████▍                                                 | 2/10 [00:00<00:00, 387.61it/s]\u001b[A\n",
      "Validation DataLoader 0:  30%|██████████████████▌                                           | 3/10 [00:00<00:00, 423.77it/s]\u001b[A\n",
      "Validation DataLoader 0:  40%|████████████████████████▊                                     | 4/10 [00:00<00:00, 443.56it/s]\u001b[A\n",
      "Validation DataLoader 0:  50%|███████████████████████████████                               | 5/10 [00:00<00:00, 459.31it/s]\u001b[A\n",
      "Validation DataLoader 0:  60%|█████████████████████████████████████▏                        | 6/10 [00:00<00:00, 467.81it/s]\u001b[A\n",
      "Validation DataLoader 0:  70%|███████████████████████████████████████████▍                  | 7/10 [00:00<00:00, 474.68it/s]\u001b[A\n",
      "Validation DataLoader 0:  80%|█████████████████████████████████████████████████▌            | 8/10 [00:00<00:00, 480.16it/s]\u001b[A\n",
      "Validation DataLoader 0:  90%|███████████████████████████████████████████████████████▊      | 9/10 [00:00<00:00, 484.06it/s]\u001b[A\n",
      "Epoch 5: 100%|██████████████████████████████████| 110/110 [00:04<00:00, 24.60it/s, v_num=61, val_loss=0.0451, val_acc=0.985]\u001b[A\n",
      "Epoch 6: 100%|██████████████████████████████████| 110/110 [00:03<00:00, 32.50it/s, v_num=61, val_loss=0.0451, val_acc=0.985]\u001b[A\n",
      "Validation: 0it [00:00, ?it/s]\u001b[A\n",
      "Validation:   0%|                                                                                    | 0/10 [00:00<?, ?it/s]\u001b[A\n",
      "Validation DataLoader 0:   0%|                                                                       | 0/10 [00:00<?, ?it/s]\u001b[A\n",
      "Validation DataLoader 0:  10%|██████▏                                                       | 1/10 [00:00<00:00, 301.06it/s]\u001b[A\n",
      "Validation DataLoader 0:  20%|████████████▍                                                 | 2/10 [00:00<00:00, 175.73it/s]\u001b[A\n",
      "Validation DataLoader 0:  30%|██████████████████▌                                           | 3/10 [00:00<00:00, 226.16it/s]\u001b[A\n",
      "Validation DataLoader 0:  40%|████████████████████████▊                                     | 4/10 [00:00<00:00, 246.20it/s]\u001b[A\n",
      "Validation DataLoader 0:  50%|███████████████████████████████                               | 5/10 [00:00<00:00, 265.69it/s]\u001b[A\n",
      "Validation DataLoader 0:  60%|█████████████████████████████████████▏                        | 6/10 [00:00<00:00, 288.71it/s]\u001b[A\n",
      "Validation DataLoader 0:  70%|███████████████████████████████████████████▍                  | 7/10 [00:00<00:00, 309.63it/s]\u001b[A\n",
      "Validation DataLoader 0:  80%|█████████████████████████████████████████████████▌            | 8/10 [00:00<00:00, 326.62it/s]\u001b[A\n",
      "Validation DataLoader 0:  90%|███████████████████████████████████████████████████████▊      | 9/10 [00:00<00:00, 343.18it/s]\u001b[A\n",
      "Epoch 6: 100%|██████████████████████████████████| 110/110 [00:04<00:00, 24.90it/s, v_num=61, val_loss=0.0426, val_acc=0.986]\u001b[A\n",
      "Epoch 7: 100%|██████████████████████████████████| 110/110 [00:03<00:00, 33.14it/s, v_num=61, val_loss=0.0426, val_acc=0.986]\u001b[A\n",
      "Validation: 0it [00:00, ?it/s]\u001b[A\n",
      "Validation:   0%|                                                                                    | 0/10 [00:00<?, ?it/s]\u001b[A\n",
      "Validation DataLoader 0:   0%|                                                                       | 0/10 [00:00<?, ?it/s]\u001b[A\n",
      "Validation DataLoader 0:  10%|██████▏                                                       | 1/10 [00:00<00:00, 296.33it/s]\u001b[A\n",
      "Validation DataLoader 0:  20%|████████████▌                                                  | 2/10 [00:00<00:00, 21.93it/s]\u001b[A\n",
      "Validation DataLoader 0:  30%|██████████████████▉                                            | 3/10 [00:00<00:00, 32.15it/s]\u001b[A\n",
      "Validation DataLoader 0:  40%|█████████████████████████▏                                     | 4/10 [00:00<00:00, 41.73it/s]\u001b[A\n",
      "Validation DataLoader 0:  50%|███████████████████████████████▌                               | 5/10 [00:00<00:00, 50.38it/s]\u001b[A\n",
      "Validation DataLoader 0:  60%|█████████████████████████████████████▊                         | 6/10 [00:00<00:00, 59.09it/s]\u001b[A\n",
      "Validation DataLoader 0:  70%|████████████████████████████████████████████                   | 7/10 [00:00<00:00, 67.75it/s]\u001b[A\n",
      "Validation DataLoader 0:  80%|██████████████████████████████████████████████████▍            | 8/10 [00:00<00:00, 76.05it/s]\u001b[A\n",
      "Validation DataLoader 0:  90%|████████████████████████████████████████████████████████▋      | 9/10 [00:00<00:00, 83.73it/s]\u001b[A\n",
      "Epoch 7: 100%|██████████████████████████████████| 110/110 [00:04<00:00, 25.21it/s, v_num=61, val_loss=0.0424, val_acc=0.985]\u001b[A\n",
      "Epoch 8: 100%|██████████████████████████████████| 110/110 [00:03<00:00, 32.99it/s, v_num=61, val_loss=0.0424, val_acc=0.985]\u001b[A\n",
      "Validation: 0it [00:00, ?it/s]\u001b[A\n",
      "Validation:   0%|                                                                                    | 0/10 [00:00<?, ?it/s]\u001b[A\n",
      "Validation DataLoader 0:   0%|                                                                       | 0/10 [00:00<?, ?it/s]\u001b[A\n",
      "Validation DataLoader 0:  10%|██████▏                                                       | 1/10 [00:00<00:00, 305.82it/s]\u001b[A\n",
      "Validation DataLoader 0:  20%|████████████▍                                                 | 2/10 [00:00<00:00, 346.44it/s]\u001b[A\n",
      "Validation DataLoader 0:  30%|██████████████████▌                                           | 3/10 [00:00<00:00, 394.08it/s]\u001b[A\n",
      "Validation DataLoader 0:  40%|████████████████████████▊                                     | 4/10 [00:00<00:00, 229.60it/s]\u001b[A\n",
      "Validation DataLoader 0:  50%|███████████████████████████████                               | 5/10 [00:00<00:00, 257.67it/s]\u001b[A\n",
      "Validation DataLoader 0:  60%|█████████████████████████████████████▏                        | 6/10 [00:00<00:00, 282.73it/s]\u001b[A\n",
      "Validation DataLoader 0:  70%|███████████████████████████████████████████▍                  | 7/10 [00:00<00:00, 304.20it/s]\u001b[A\n",
      "Validation DataLoader 0:  80%|█████████████████████████████████████████████████▌            | 8/10 [00:00<00:00, 321.75it/s]\u001b[A\n",
      "Validation DataLoader 0:  90%|███████████████████████████████████████████████████████▊      | 9/10 [00:00<00:00, 330.70it/s]\u001b[A\n",
      "Epoch 8: 100%|██████████████████████████████████| 110/110 [00:04<00:00, 25.31it/s, v_num=61, val_loss=0.0412, val_acc=0.986]\u001b[A\n",
      "Epoch 9: 100%|██████████████████████████████████| 110/110 [00:03<00:00, 33.69it/s, v_num=61, val_loss=0.0412, val_acc=0.986]\u001b[A\n",
      "Validation: 0it [00:00, ?it/s]\u001b[A\n",
      "Validation:   0%|                                                                                    | 0/10 [00:00<?, ?it/s]\u001b[A\n",
      "Validation DataLoader 0:   0%|                                                                       | 0/10 [00:00<?, ?it/s]\u001b[A\n",
      "Validation DataLoader 0:  10%|██████▏                                                       | 1/10 [00:00<00:00, 305.53it/s]\u001b[A\n",
      "Validation DataLoader 0:  20%|████████████▌                                                  | 2/10 [00:00<00:00, 29.86it/s]\u001b[A\n",
      "Validation DataLoader 0:  30%|██████████████████▉                                            | 3/10 [00:00<00:00, 43.31it/s]\u001b[A\n",
      "Validation DataLoader 0:  40%|█████████████████████████▏                                     | 4/10 [00:00<00:00, 56.26it/s]\u001b[A\n",
      "Validation DataLoader 0:  50%|███████████████████████████████▌                               | 5/10 [00:00<00:00, 68.65it/s]\u001b[A\n",
      "Validation DataLoader 0:  60%|█████████████████████████████████████▊                         | 6/10 [00:00<00:00, 80.48it/s]\u001b[A\n",
      "Validation DataLoader 0:  70%|████████████████████████████████████████████                   | 7/10 [00:00<00:00, 91.80it/s]\u001b[A\n",
      "Validation DataLoader 0:  80%|█████████████████████████████████████████████████▌            | 8/10 [00:00<00:00, 101.95it/s]\u001b[A\n",
      "Validation DataLoader 0:  90%|███████████████████████████████████████████████████████▊      | 9/10 [00:00<00:00, 112.11it/s]\u001b[A\n",
      "Epoch 9: 100%|██████████████████████████████████| 110/110 [00:04<00:00, 25.76it/s, v_num=61, val_loss=0.0389, val_acc=0.987]\u001b[A\n",
      "Epoch 9: 100%|██████████████████████████████████| 110/110 [00:04<00:00, 25.75it/s, v_num=61, val_loss=0.0389, val_acc=0.987]\u001b[A"
     ]
    },
    {
     "name": "stderr",
     "output_type": "stream",
     "text": [
      "`Trainer.fit` stopped: `max_epochs=10` reached.\n"
     ]
    },
    {
     "name": "stdout",
     "output_type": "stream",
     "text": [
      "Epoch 9: 100%|██████████████████████████████████| 110/110 [00:04<00:00, 25.73it/s, v_num=61, val_loss=0.0389, val_acc=0.987]\n"
     ]
    }
   ],
   "source": [
    "# now finetune e2e on the new data\n",
    "model_5_9 = LitMNIST.load_from_checkpoint(checkpoint_path=\"model.ckpt\")\n",
    "# set it up to run on the second half of mnist (digits 5,6,7,8,9)\n",
    "model_loaded_no_training.class_names= [5,6,7,8,9]\n",
    "model_loaded_no_training.min_class = min(model_loaded_no_training.class_names)\n",
    "\n",
    "trainer = L.Trainer(\n",
    "    accelerator=\"auto\",\n",
    "    devices=1,\n",
    "    max_epochs=10,\n",
    "    logger=CSVLogger(save_dir=\"logs/\"),\n",
    ")\n",
    "trainer.fit(model_5_9)"
   ]
  },
  {
   "cell_type": "code",
   "execution_count": 14,
   "id": "4fd0c776-ced6-48d2-bfc2-ebc5fb873ae6",
   "metadata": {},
   "outputs": [
    {
     "name": "stderr",
     "output_type": "stream",
     "text": [
      "You are using a CUDA device ('NVIDIA GeForce RTX 4090') that has Tensor Cores. To properly utilize them, you should set `torch.set_float32_matmul_precision('medium' | 'high')` which will trade-off precision for performance. For more details, read https://pytorch.org/docs/stable/generated/torch.set_float32_matmul_precision.html#torch.set_float32_matmul_precision\n",
      "Restoring states from the checkpoint path at logs/lightning_logs/version_61/checkpoints/epoch=9-step=1100.ckpt\n",
      "LOCAL_RANK: 0 - CUDA_VISIBLE_DEVICES: [0]\n",
      "Loaded model weights from the checkpoint at logs/lightning_logs/version_61/checkpoints/epoch=9-step=1100.ckpt\n"
     ]
    },
    {
     "name": "stdout",
     "output_type": "stream",
     "text": [
      "Testing DataLoader 0: 100%|████████████████████████████████████████████████████████████████| 21/21 [00:00<00:00, 394.16it/s]\n"
     ]
    },
    {
     "data": {
      "text/html": [
       "<pre style=\"white-space:pre;overflow-x:auto;line-height:normal;font-family:Menlo,'DejaVu Sans Mono',consolas,'Courier New',monospace\">┏━━━━━━━━━━━━━━━━━━━━━━━━━━━┳━━━━━━━━━━━━━━━━━━━━━━━━━━━┓\n",
       "┃<span style=\"font-weight: bold\">   Runningstage.testing    </span>┃<span style=\"font-weight: bold\">                           </span>┃\n",
       "┃<span style=\"font-weight: bold\">          metric           </span>┃<span style=\"font-weight: bold\">       DataLoader 0        </span>┃\n",
       "┡━━━━━━━━━━━━━━━━━━━━━━━━━━━╇━━━━━━━━━━━━━━━━━━━━━━━━━━━┩\n",
       "│<span style=\"color: #008080; text-decoration-color: #008080\">         test_acc          </span>│<span style=\"color: #800080; text-decoration-color: #800080\">    0.9896867275238037     </span>│\n",
       "│<span style=\"color: #008080; text-decoration-color: #008080\">         test_loss         </span>│<span style=\"color: #800080; text-decoration-color: #800080\">   0.028699563816189766    </span>│\n",
       "└───────────────────────────┴───────────────────────────┘\n",
       "</pre>\n"
      ],
      "text/plain": [
       "┏━━━━━━━━━━━━━━━━━━━━━━━━━━━┳━━━━━━━━━━━━━━━━━━━━━━━━━━━┓\n",
       "┃\u001b[1m \u001b[0m\u001b[1m  Runningstage.testing   \u001b[0m\u001b[1m \u001b[0m┃\u001b[1m                           \u001b[0m┃\n",
       "┃\u001b[1m \u001b[0m\u001b[1m         metric          \u001b[0m\u001b[1m \u001b[0m┃\u001b[1m \u001b[0m\u001b[1m      DataLoader 0       \u001b[0m\u001b[1m \u001b[0m┃\n",
       "┡━━━━━━━━━━━━━━━━━━━━━━━━━━━╇━━━━━━━━━━━━━━━━━━━━━━━━━━━┩\n",
       "│\u001b[36m \u001b[0m\u001b[36m        test_acc         \u001b[0m\u001b[36m \u001b[0m│\u001b[35m \u001b[0m\u001b[35m   0.9896867275238037    \u001b[0m\u001b[35m \u001b[0m│\n",
       "│\u001b[36m \u001b[0m\u001b[36m        test_loss        \u001b[0m\u001b[36m \u001b[0m│\u001b[35m \u001b[0m\u001b[35m  0.028699563816189766   \u001b[0m\u001b[35m \u001b[0m│\n",
       "└───────────────────────────┴───────────────────────────┘\n"
      ]
     },
     "metadata": {},
     "output_type": "display_data"
    },
    {
     "data": {
      "text/plain": [
       "[{'test_loss': 0.028699563816189766, 'test_acc': 0.9896867275238037}]"
      ]
     },
     "execution_count": 14,
     "metadata": {},
     "output_type": "execute_result"
    }
   ],
   "source": [
    "# unsuprisingly finetuning allows us to perform equally well on the second half of MNIST. However this approach would require us to save the entire model binary for each dataset we wanted to finetune our initial model on, which doesn't scale well.\n",
    "trainer.test()"
   ]
  },
  {
   "cell_type": "markdown",
   "id": "b37c4c1e-8141-4416-a0a1-1f8e596abd17",
   "metadata": {},
   "source": [
    "# Finetune on second half of MNIST using LoRA"
   ]
  },
  {
   "cell_type": "code",
   "execution_count": 15,
   "id": "c5205ae5-a599-4aaf-bd11-781d7ed1324e",
   "metadata": {},
   "outputs": [],
   "source": []
  },
  {
   "cell_type": "code",
   "execution_count": null,
   "id": "44986317-f1ec-4b53-b68d-47b0db656ac1",
   "metadata": {},
   "outputs": [],
   "source": []
  }
 ],
 "metadata": {
  "kernelspec": {
   "display_name": "Python 3 (ipykernel)",
   "language": "python",
   "name": "python3"
  },
  "language_info": {
   "codemirror_mode": {
    "name": "ipython",
    "version": 3
   },
   "file_extension": ".py",
   "mimetype": "text/x-python",
   "name": "python",
   "nbconvert_exporter": "python",
   "pygments_lexer": "ipython3",
   "version": "3.11.4"
  }
 },
 "nbformat": 4,
 "nbformat_minor": 5
}
